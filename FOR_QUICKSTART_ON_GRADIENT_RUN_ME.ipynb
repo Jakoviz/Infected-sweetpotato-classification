{
 "cells": [
  {
   "cell_type": "code",
   "execution_count": null,
   "id": "97823a0d-5fcf-4e91-93d6-40339c65ae73",
   "metadata": {},
   "outputs": [],
   "source": [
    "# Run this cell first to install dependencies\n",
    "!pip install scikit-image optuna imutils python-dotenv seaborn"
   ]
  },
  {
   "cell_type": "code",
   "execution_count": null,
   "id": "50d2ba35-6278-4d6b-a81a-865a3057a6b9",
   "metadata": {},
   "outputs": [],
   "source": [
    "## Run hyperparameter search\n",
    "# Usage: hyperparameter_search.py [OPTIONS]\n",
    "# \n",
    "# Options:\n",
    "#   -m, --model [resnet18|inception_v3|vision_transformer|bag_of_words]\n",
    "#                                   Model architechture.  [required]\n",
    "#   -e, --no_of_epochs INTEGER      Number of epochs in training loop.\n",
    "#                                   [default: 20]\n",
    "#   -es, --early_stopping_counter INTEGER\n",
    "#                                   Number of consequtive epochs with no\n",
    "#                                   improvement in loss until trial is stopped.\n",
    "#                                   Default: ~one third of no of epochs.\n",
    "#   -t, --no_of_trials INTEGER      Number of hyperparamter search trials in\n",
    "#                                   training loop.  [default: 20]\n",
    "#   -d, --dataset [plant|plant_golden|leaf]\n",
    "#                                   Already available dataset to use to train\n",
    "#                                   the model. Give either -d or -csv, not both.\n",
    "#   -csv, --data-csv TEXT           Full file path to dataset CSV-file created\n",
    "#                                   during segmentation. Give either -d or -csv,\n",
    "#                                   not both.\n",
    "#   -b, --binary                    Train binary classifier instead of\n",
    "#                                   multiclass classifier.  [default: False]\n",
    "#   -aug, --augmentation            Use data-augmentation for the training.\n",
    "#                                   [default: True]\n",
    "#   -s, --save                      Save the trained model and add information\n",
    "#                                   to model dataframe.  [default: True]\n",
    "#   -v, --verbose                   Print verbose logs.  [default: False]\n",
    "#   -o, --optimizers TEXT           Which optimizer algorithms to include in the\n",
    "#                                   hyperparameter search. Give a comma-\n",
    "#                                   separated list of optimizers, e.g.:\n",
    "#                                   adam,adamw,rmsprop,sgd,adagrad.  [default:\n",
    "#                                   adam,adamw]\n",
    "#   --help                          Show this message and exit.\n",
    "\n",
    "%run -i 'hyperparameter_search.py' --model inception_v3 --dataset leaf --binary"
   ]
  },
  {
   "cell_type": "code",
   "execution_count": 13,
   "id": "652dc958-3a25-44aa-a575-116ad7dcc155",
   "metadata": {},
   "outputs": [
    {
     "name": "stderr",
     "output_type": "stream",
     "text": [
      "INFO:__main__:Reading the data\n"
     ]
    },
    {
     "ename": "ValueError",
     "evalue": "You tried to do binary classification without binary label argument. You must give also binary-label (-bl or --binary-label) argument when using binary classification and the dataset contains more than two labels. We detected 4 number of labels.",
     "output_type": "error",
     "traceback": [
      "\u001b[0;31m---------------------------------------------------------------------------\u001b[0m",
      "\u001b[0;31mValueError\u001b[0m                                Traceback (most recent call last)",
      "File \u001b[0;32m/notebooks/train.py:405\u001b[0m, in \u001b[0;36m<module>\u001b[0;34m\u001b[0m\n\u001b[1;32m    402\u001b[0m     \u001b[38;5;28;01mreturn\u001b[39;00m (clf, y_true, y_pred, test_accuracy, test_loss, other_json)\n\u001b[1;32m    404\u001b[0m \u001b[38;5;28;01mif\u001b[39;00m \u001b[38;5;18m__name__\u001b[39m \u001b[38;5;241m==\u001b[39m \u001b[38;5;124m\"\u001b[39m\u001b[38;5;124m__main__\u001b[39m\u001b[38;5;124m\"\u001b[39m:\n\u001b[0;32m--> 405\u001b[0m     \u001b[43mtrain\u001b[49m\u001b[43m(\u001b[49m\u001b[43m)\u001b[49m\n",
      "File \u001b[0;32m/opt/conda/lib/python3.8/site-packages/click/core.py:1128\u001b[0m, in \u001b[0;36mBaseCommand.__call__\u001b[0;34m(self, *args, **kwargs)\u001b[0m\n\u001b[1;32m   1126\u001b[0m \u001b[38;5;28;01mdef\u001b[39;00m \u001b[38;5;21m__call__\u001b[39m(\u001b[38;5;28mself\u001b[39m, \u001b[38;5;241m*\u001b[39margs: t\u001b[38;5;241m.\u001b[39mAny, \u001b[38;5;241m*\u001b[39m\u001b[38;5;241m*\u001b[39mkwargs: t\u001b[38;5;241m.\u001b[39mAny) \u001b[38;5;241m-\u001b[39m\u001b[38;5;241m>\u001b[39m t\u001b[38;5;241m.\u001b[39mAny:\n\u001b[1;32m   1127\u001b[0m     \u001b[38;5;124;03m\"\"\"Alias for :meth:`main`.\"\"\"\u001b[39;00m\n\u001b[0;32m-> 1128\u001b[0m     \u001b[38;5;28;01mreturn\u001b[39;00m \u001b[38;5;28;43mself\u001b[39;49m\u001b[38;5;241;43m.\u001b[39;49m\u001b[43mmain\u001b[49m\u001b[43m(\u001b[49m\u001b[38;5;241;43m*\u001b[39;49m\u001b[43margs\u001b[49m\u001b[43m,\u001b[49m\u001b[43m \u001b[49m\u001b[38;5;241;43m*\u001b[39;49m\u001b[38;5;241;43m*\u001b[39;49m\u001b[43mkwargs\u001b[49m\u001b[43m)\u001b[49m\n",
      "File \u001b[0;32m/opt/conda/lib/python3.8/site-packages/click/core.py:1053\u001b[0m, in \u001b[0;36mBaseCommand.main\u001b[0;34m(self, args, prog_name, complete_var, standalone_mode, windows_expand_args, **extra)\u001b[0m\n\u001b[1;32m   1051\u001b[0m \u001b[38;5;28;01mtry\u001b[39;00m:\n\u001b[1;32m   1052\u001b[0m     \u001b[38;5;28;01mwith\u001b[39;00m \u001b[38;5;28mself\u001b[39m\u001b[38;5;241m.\u001b[39mmake_context(prog_name, args, \u001b[38;5;241m*\u001b[39m\u001b[38;5;241m*\u001b[39mextra) \u001b[38;5;28;01mas\u001b[39;00m ctx:\n\u001b[0;32m-> 1053\u001b[0m         rv \u001b[38;5;241m=\u001b[39m \u001b[38;5;28;43mself\u001b[39;49m\u001b[38;5;241;43m.\u001b[39;49m\u001b[43minvoke\u001b[49m\u001b[43m(\u001b[49m\u001b[43mctx\u001b[49m\u001b[43m)\u001b[49m\n\u001b[1;32m   1054\u001b[0m         \u001b[38;5;28;01mif\u001b[39;00m \u001b[38;5;129;01mnot\u001b[39;00m standalone_mode:\n\u001b[1;32m   1055\u001b[0m             \u001b[38;5;28;01mreturn\u001b[39;00m rv\n",
      "File \u001b[0;32m/opt/conda/lib/python3.8/site-packages/click/core.py:1395\u001b[0m, in \u001b[0;36mCommand.invoke\u001b[0;34m(self, ctx)\u001b[0m\n\u001b[1;32m   1392\u001b[0m     echo(style(message, fg\u001b[38;5;241m=\u001b[39m\u001b[38;5;124m\"\u001b[39m\u001b[38;5;124mred\u001b[39m\u001b[38;5;124m\"\u001b[39m), err\u001b[38;5;241m=\u001b[39m\u001b[38;5;28;01mTrue\u001b[39;00m)\n\u001b[1;32m   1394\u001b[0m \u001b[38;5;28;01mif\u001b[39;00m \u001b[38;5;28mself\u001b[39m\u001b[38;5;241m.\u001b[39mcallback \u001b[38;5;129;01mis\u001b[39;00m \u001b[38;5;129;01mnot\u001b[39;00m \u001b[38;5;28;01mNone\u001b[39;00m:\n\u001b[0;32m-> 1395\u001b[0m     \u001b[38;5;28;01mreturn\u001b[39;00m \u001b[43mctx\u001b[49m\u001b[38;5;241;43m.\u001b[39;49m\u001b[43minvoke\u001b[49m\u001b[43m(\u001b[49m\u001b[38;5;28;43mself\u001b[39;49m\u001b[38;5;241;43m.\u001b[39;49m\u001b[43mcallback\u001b[49m\u001b[43m,\u001b[49m\u001b[43m \u001b[49m\u001b[38;5;241;43m*\u001b[39;49m\u001b[38;5;241;43m*\u001b[39;49m\u001b[43mctx\u001b[49m\u001b[38;5;241;43m.\u001b[39;49m\u001b[43mparams\u001b[49m\u001b[43m)\u001b[49m\n",
      "File \u001b[0;32m/opt/conda/lib/python3.8/site-packages/click/core.py:754\u001b[0m, in \u001b[0;36mContext.invoke\u001b[0;34m(_Context__self, _Context__callback, *args, **kwargs)\u001b[0m\n\u001b[1;32m    752\u001b[0m \u001b[38;5;28;01mwith\u001b[39;00m augment_usage_errors(__self):\n\u001b[1;32m    753\u001b[0m     \u001b[38;5;28;01mwith\u001b[39;00m ctx:\n\u001b[0;32m--> 754\u001b[0m         \u001b[38;5;28;01mreturn\u001b[39;00m \u001b[43m__callback\u001b[49m\u001b[43m(\u001b[49m\u001b[38;5;241;43m*\u001b[39;49m\u001b[43margs\u001b[49m\u001b[43m,\u001b[49m\u001b[43m \u001b[49m\u001b[38;5;241;43m*\u001b[39;49m\u001b[38;5;241;43m*\u001b[39;49m\u001b[43mkwargs\u001b[49m\u001b[43m)\u001b[49m\n",
      "File \u001b[0;32m/notebooks/train.py:84\u001b[0m, in \u001b[0;36mtrain\u001b[0;34m(model, dataset, data_csv, binary, binary_label, params_file, augmentation, save, verbose)\u001b[0m\n\u001b[1;32m     81\u001b[0m labels \u001b[38;5;241m=\u001b[39m get_dataset_labels(datasheet_path\u001b[38;5;241m=\u001b[39mDATA_MASTER_PATH)\n\u001b[1;32m     83\u001b[0m \u001b[38;5;28;01mif\u001b[39;00m binary \u001b[38;5;129;01mand\u001b[39;00m \u001b[38;5;129;01mnot\u001b[39;00m binary_label \u001b[38;5;129;01mand\u001b[39;00m \u001b[38;5;28mlen\u001b[39m(labels) \u001b[38;5;241m>\u001b[39m \u001b[38;5;241m2\u001b[39m:\n\u001b[0;32m---> 84\u001b[0m     \u001b[38;5;28;01mraise\u001b[39;00m \u001b[38;5;167;01mValueError\u001b[39;00m(\u001b[38;5;124mf\u001b[39m\u001b[38;5;124m\"\u001b[39m\u001b[38;5;124mYou tried to do binary classification without binary label argument. You must give also binary-label (-bl or --binary-label) argument when using binary classification and the dataset contains more than two labels. We detected \u001b[39m\u001b[38;5;132;01m{\u001b[39;00m\u001b[38;5;28mlen\u001b[39m(labels)\u001b[38;5;132;01m}\u001b[39;00m\u001b[38;5;124m number of labels.\u001b[39m\u001b[38;5;124m\"\u001b[39m)\n\u001b[1;32m     86\u001b[0m \u001b[38;5;28;01mif\u001b[39;00m binary:\n\u001b[1;32m     87\u001b[0m     NUM_CLASSES \u001b[38;5;241m=\u001b[39m \u001b[38;5;241m2\u001b[39m\n",
      "\u001b[0;31mValueError\u001b[0m: You tried to do binary classification without binary label argument. You must give also binary-label (-bl or --binary-label) argument when using binary classification and the dataset contains more than two labels. We detected 4 number of labels."
     ]
    }
   ],
   "source": [
    "## Run training with the model selected (whose hyperparameters are in hyperparams.yaml file)\n",
    "# Usage: train.py [OPTIONS]\n",
    "# \n",
    "# Options:\n",
    "#   -m, --model [resnet18|inception_v3|vision_transformer|bag_of_words]\n",
    "#                                   Model architechture.  [required]\n",
    "#   -d, --dataset [plant|plant_golden|leaf]\n",
    "#                                   Already available dataset to use to train\n",
    "#                                   the model. Give either -d or -csv, not both.\n",
    "#   -csv, --data-csv TEXT           Full file path to dataset CSV-file created\n",
    "#                                   during segmentation. Give either -d or -csv,\n",
    "#                                   not both.\n",
    "#   -b, --binary                    Train binary classifier instead of\n",
    "#                                   multiclass classifier.  [default: False]\n",
    "#   -bl, --binary-label INTEGER     Binary label when dataset has more than two\n",
    "#                                   labels. Classification is done using one-vs-\n",
    "#                                   rest, where the binary label corresponds to\n",
    "#                                   the one compared to other labels.\n",
    "#   -p, --params-file TEXT          Full file path to hyperparameter-file used\n",
    "#                                   during the training. File must be a YAMl\n",
    "#                                   file and similarly structured than\n",
    "#                                   hyperparams.yaml.\n",
    "#   -aug, --augmentation / -no-aug, --no-augmentation\n",
    "#                                   Use data-augmentation for the training.\n",
    "#                                   [default: aug]\n",
    "#   -s, --save / -nos, --no-save    Save the trained model and add information\n",
    "#                                   to model dataframe.  [default: s]\n",
    "#   -v, --verbose                   Print verbose logs.  [default: False]\n",
    "#   --help                          Show this message and exit.\n",
    "\n",
    "%run -i 'train.py' --model inception_v3 --dataset leaf --binary --binary-label 0"
   ]
  },
  {
   "cell_type": "code",
   "execution_count": null,
   "id": "bf1f7b64-8c18-40ee-8cd8-5b49f48f2852",
   "metadata": {},
   "outputs": [],
   "source": [
    "## Run prediction with the most viable model\n",
    "# Usage: predict.py [OPTIONS]\n",
    "#\n",
    "# Options:\n",
    "#   -i, --input TEXT                Path to input image.  [required]\n",
    "#   -id, --identifier TEXT          Model id. You can print model info with\n",
    "#                                   help.py.\n",
    "#   -m, --model [resnet18|inception_v3|vision_transformer|bag_of_words]\n",
    "#                                   Model architechture.\n",
    "#   -n, --num-classes INTEGER       Number of classes (2 in binary case, 4 in\n",
    "#                                   multi-class case).\n",
    "#   -d, --dataset TEXT              Name of the dataset model is trained on.\n",
    "#   -v, --verbose                   Print verbose logs.  [default: False]\n",
    "#   --help                          Show this message and exit.\n",
    "    \n",
    "%run -i 'predict.py' --model resnet18 --input \"./image_to_be_predicted.png\""
   ]
  },
  {
   "cell_type": "code",
   "execution_count": null,
   "id": "afa7f3fd-a776-4e8c-8322-8d927f9946b0",
   "metadata": {},
   "outputs": [],
   "source": [
    "%run -i 'train.py' --help"
   ]
  },
  {
   "cell_type": "code",
   "execution_count": null,
   "id": "d0055aed-ff42-4b43-8996-c37a214efeac",
   "metadata": {},
   "outputs": [],
   "source": [
    "%run -i 'predict.py' --help"
   ]
  },
  {
   "cell_type": "code",
   "execution_count": null,
   "id": "eb7af96c-4c49-4947-ad70-7af09cc08fb4",
   "metadata": {},
   "outputs": [],
   "source": []
  }
 ],
 "metadata": {
  "kernelspec": {
   "display_name": "Python 3 (ipykernel)",
   "language": "python",
   "name": "python3"
  },
  "language_info": {
   "codemirror_mode": {
    "name": "ipython",
    "version": 3
   },
   "file_extension": ".py",
   "mimetype": "text/x-python",
   "name": "python",
   "nbconvert_exporter": "python",
   "pygments_lexer": "ipython3",
   "version": "3.8.12"
  }
 },
 "nbformat": 4,
 "nbformat_minor": 5
}
